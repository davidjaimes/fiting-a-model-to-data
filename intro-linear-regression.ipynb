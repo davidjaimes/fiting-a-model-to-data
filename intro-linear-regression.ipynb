{
 "cells": [
  {
   "cell_type": "code",
   "execution_count": 2,
   "metadata": {},
   "outputs": [],
   "source": [
    "import matplotlib.pyplot as plt\n",
    "from mpl_style import lightbg\n",
    "import numpy as np\n",
    "import pandas as pd\n",
    "from scipy import stats\n",
    "import seaborn as sns"
   ]
  },
  {
   "cell_type": "markdown",
   "metadata": {},
   "source": [
    "# Find coefficients to linear equation."
   ]
  },
  {
   "cell_type": "markdown",
   "metadata": {},
   "source": [
    "1.) Given set of $n$ points $(x_i, y_i)$ on a scatter plot.\n",
    "\n",
    "2.) Find the best-fit line, $\\hat{y}_i= \\alpha + \\beta x_i$.\n",
    "\n",
    "3.) Such that the sum of squared errors, $\\Sigma (y_i - \\hat{y}_i)^2$, is minimized."
   ]
  },
  {
   "cell_type": "markdown",
   "metadata": {},
   "source": [
    "# Numerical Example"
   ]
  },
  {
   "cell_type": "markdown",
   "metadata": {},
   "source": [
    "$ S_x = \\Sigma x_i, \\ \\ S_y = \\Sigma y_i, \\ \\ S_{xy} = \\Sigma x_i y_i \\\\ S_{xx} = \\Sigma x_i^2, \\ \\ S_{yy} = \\Sigma y_i^2$"
   ]
  },
  {
   "cell_type": "code",
   "execution_count": 3,
   "metadata": {},
   "outputs": [],
   "source": [
    "df = pd.read_csv('table1.dat', sep=' ', usecols=['x', 'y'])\n",
    "Sx = df.x.sum()\n",
    "Sy = df.y.sum()\n",
    "Sxy = df.x @ df.y\n",
    "Sxx = df.x @ df.x\n",
    "Syy = df.y @ df.y"
   ]
  },
  {
   "cell_type": "markdown",
   "metadata": {},
   "source": [
    "$ \\beta = \\frac{n S_{xx} - S_x S_y}{n S_{xx} - S_x^2}, \\ \\ \\alpha = \\frac{1}{n} S_y - \\beta \\frac{1}{n} S_x$"
   ]
  },
  {
   "cell_type": "code",
   "execution_count": 4,
   "metadata": {},
   "outputs": [],
   "source": [
    "n = len(df)\n",
    "beta = (n * Sxy - Sx * Sy) / (n * Sxx - Sx ** 2)\n",
    "alpha = (1/n) * (Sy - beta * Sx)"
   ]
  },
  {
   "cell_type": "markdown",
   "metadata": {},
   "source": [
    "$ S_{\\epsilon}^2 = \\frac{1}{n(n-2)} [n S_{yy} - S_y^2 - \\beta^2 (n S_{xx} - S_x^2)]$\n",
    "\n",
    "$ S_{\\beta}^2 = \\frac{n S_{\\epsilon}^2}{n S_{xx} - S_x^2} $\n",
    "\n",
    "$ S_{\\alpha}^2 = S_{\\beta}^2 \\frac{1}{n} S_{xx} $"
   ]
  },
  {
   "cell_type": "code",
   "execution_count": 5,
   "metadata": {},
   "outputs": [],
   "source": [
    "Se2 = pow(n * (n - 2), -1) * (n * Syy - pow(Sy, 2) - pow(beta, 2) * (n * Sxx - Sxx ** 2))\n",
    "Sb2 = (n * Se2 ** 2) / (n * Sxx - Sx ** 2)\n",
    "Sa2 = Se2 * Sxx / n\n",
    "\n",
    "ne = pd.Series([alpha, beta, Sa2, Sb2],\n",
    "               index=['a', 'b', 'ea', 'eb'],\n",
    "               name='Numerical Example')"
   ]
  },
  {
   "cell_type": "code",
   "execution_count": 6,
   "metadata": {},
   "outputs": [
    {
     "data": {
      "text/html": [
       "<div>\n",
       "<style scoped>\n",
       "    .dataframe tbody tr th:only-of-type {\n",
       "        vertical-align: middle;\n",
       "    }\n",
       "\n",
       "    .dataframe tbody tr th {\n",
       "        vertical-align: top;\n",
       "    }\n",
       "\n",
       "    .dataframe thead th {\n",
       "        text-align: right;\n",
       "    }\n",
       "</style>\n",
       "<table border=\"1\" class=\"dataframe\">\n",
       "  <thead>\n",
       "    <tr style=\"text-align: right;\">\n",
       "      <th></th>\n",
       "      <th>x</th>\n",
       "      <th>y</th>\n",
       "    </tr>\n",
       "  </thead>\n",
       "  <tbody>\n",
       "    <tr>\n",
       "      <th>x</th>\n",
       "      <td>3168.134211</td>\n",
       "      <td>2002.297368</td>\n",
       "    </tr>\n",
       "    <tr>\n",
       "      <th>y</th>\n",
       "      <td>2002.297368</td>\n",
       "      <td>10476.892105</td>\n",
       "    </tr>\n",
       "  </tbody>\n",
       "</table>\n",
       "</div>"
      ],
      "text/plain": [
       "             x             y\n",
       "x  3168.134211   2002.297368\n",
       "y  2002.297368  10476.892105"
      ]
     },
     "execution_count": 6,
     "metadata": {},
     "output_type": "execute_result"
    }
   ],
   "source": [
    "df.cov()"
   ]
  },
  {
   "cell_type": "code",
   "execution_count": null,
   "metadata": {},
   "outputs": [],
   "source": []
  },
  {
   "cell_type": "code",
   "execution_count": null,
   "metadata": {},
   "outputs": [],
   "source": []
  },
  {
   "cell_type": "markdown",
   "metadata": {},
   "source": [
    "# Linear Least Squares"
   ]
  },
  {
   "cell_type": "markdown",
   "metadata": {},
   "source": [
    "$ \\begin{bmatrix} \\alpha \\\\ \\beta \\end{bmatrix} = (X^T X)^{-1} X^T Y$ "
   ]
  },
  {
   "cell_type": "code",
   "execution_count": 7,
   "metadata": {},
   "outputs": [
    {
     "data": {
      "text/plain": [
       "(310.0172025540511, 0.6320115359280902)"
      ]
     },
     "execution_count": 7,
     "metadata": {},
     "output_type": "execute_result"
    }
   ],
   "source": [
    "Y = df.y.values.reshape((len(df), 1))\n",
    "X = np.matrix([np.ones(len(df)), df.x]).T\n",
    "m = (np.linalg.inv(X.T @ X) @ X.T @ Y)\n",
    "alpha, beta = m.item(0), m.item(1)\n",
    "alpha, beta"
   ]
  },
  {
   "cell_type": "code",
   "execution_count": 8,
   "metadata": {},
   "outputs": [],
   "source": [
    "m = np.linalg.inv(X.T @ X)\n",
    "lls = pd.Series([alpha, beta], index=['a', 'b'], name='Linear Least Squares')"
   ]
  },
  {
   "cell_type": "code",
   "execution_count": 9,
   "metadata": {},
   "outputs": [
    {
     "data": {
      "text/html": [
       "<div>\n",
       "<style scoped>\n",
       "    .dataframe tbody tr th:only-of-type {\n",
       "        vertical-align: middle;\n",
       "    }\n",
       "\n",
       "    .dataframe tbody tr th {\n",
       "        vertical-align: top;\n",
       "    }\n",
       "\n",
       "    .dataframe thead th {\n",
       "        text-align: right;\n",
       "    }\n",
       "</style>\n",
       "<table border=\"1\" class=\"dataframe\">\n",
       "  <thead>\n",
       "    <tr style=\"text-align: right;\">\n",
       "      <th></th>\n",
       "      <th>a</th>\n",
       "      <th>b</th>\n",
       "      <th>ea</th>\n",
       "      <th>eb</th>\n",
       "    </tr>\n",
       "  </thead>\n",
       "  <tbody>\n",
       "    <tr>\n",
       "      <th>Numerical Example</th>\n",
       "      <td>310.017203</td>\n",
       "      <td>0.632012</td>\n",
       "      <td>1.593591e+13</td>\n",
       "      <td>3.876278e+12</td>\n",
       "    </tr>\n",
       "    <tr>\n",
       "      <th>Linear Least Squares</th>\n",
       "      <td>310.017203</td>\n",
       "      <td>0.632012</td>\n",
       "      <td>NaN</td>\n",
       "      <td>NaN</td>\n",
       "    </tr>\n",
       "  </tbody>\n",
       "</table>\n",
       "</div>"
      ],
      "text/plain": [
       "                               a         b            ea            eb\n",
       "Numerical Example     310.017203  0.632012  1.593591e+13  3.876278e+12\n",
       "Linear Least Squares  310.017203  0.632012           NaN           NaN"
      ]
     },
     "execution_count": 9,
     "metadata": {},
     "output_type": "execute_result"
    }
   ],
   "source": [
    "pd.DataFrame([ne, lls])"
   ]
  },
  {
   "cell_type": "code",
   "execution_count": null,
   "metadata": {},
   "outputs": [],
   "source": []
  }
 ],
 "metadata": {
  "kernelspec": {
   "display_name": "Python 3 (ipykernel)",
   "language": "python",
   "name": "python3"
  },
  "language_info": {
   "codemirror_mode": {
    "name": "ipython",
    "version": 3
   },
   "file_extension": ".py",
   "mimetype": "text/x-python",
   "name": "python",
   "nbconvert_exporter": "python",
   "pygments_lexer": "ipython3",
   "version": "3.9.6"
  }
 },
 "nbformat": 4,
 "nbformat_minor": 4
}
